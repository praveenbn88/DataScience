{
 "cells": [
  {
   "cell_type": "code",
   "execution_count": 5,
   "metadata": {},
   "outputs": [
    {
     "data": {
      "text/plain": [
       "['abcdefdefghi']"
      ]
     },
     "execution_count": 5,
     "metadata": {},
     "output_type": "execute_result"
    }
   ],
   "source": [
    "'''#Task 1 1.1\n",
    "Write a Python Program to implement your own myreduce() function which works exactly like\n",
    "Python's built-in function reduce()'''\n",
    "\n",
    "def myreduce(a,lst):\n",
    "    out=[]\n",
    "    st=''\n",
    "    for i in range(len(lst)-1):\n",
    "        st+=(a(lst[i],lst[i+1]))\n",
    "    out.append(st)\n",
    "    return out\n",
    "    \n",
    "lst =['abc','def','ghi']    \n",
    "myreduce(lambda a,b: a+b,lst)    "
   ]
  },
  {
   "cell_type": "code",
   "execution_count": 6,
   "metadata": {},
   "outputs": [
    {
     "data": {
      "text/plain": [
       "[2, 4, 6, 8, 10]"
      ]
     },
     "execution_count": 6,
     "metadata": {},
     "output_type": "execute_result"
    }
   ],
   "source": [
    "'''Task 1 1.2\n",
    "Write a Python program to implement your own myfilter() function which works exactly like\n",
    "Python's built-in function filter()'''\n",
    "def even_check(num):\n",
    "    if num%2 ==0:\n",
    "        return True\n",
    "    \n",
    "def myfilter(a,lst):\n",
    "    out =[]\n",
    "    for i in lst:\n",
    "        if a(i)==True:\n",
    "            out.append(i)\n",
    "    return out\n",
    "    \n",
    "lst =[1,2,3,4,5,6,7,8,9,10]\n",
    "    \n",
    "list(myfilter(even_check,lst))    "
   ]
  },
  {
   "cell_type": "code",
   "execution_count": 48,
   "metadata": {},
   "outputs": [
    {
     "name": "stdout",
     "output_type": "stream",
     "text": [
      "['A', 'C', 'A', 'D', 'G', 'I', 'L', 'D']\n",
      "['x', 'xx', 'xxx', 'y', 'yy', 'yyy', 'z', 'zz', 'zzz']\n",
      "['x', 'y', 'z', 'xx', 'yy', 'zz', 'xxx', 'yyy', 'zzz']\n",
      "[[2], [3], [4], [3], [4], [5], [4], [5], [6]]\n",
      "[[2, 3, 4, 5], [3, 4, 5, 6], [4, 5, 6, 7], [5, 6, 7, 8]]\n",
      "[(1, 1), (2, 1), (3, 1), (1, 2), (2, 2), (3, 2), (1, 3), (2, 3), (3, 3)]\n"
     ]
    }
   ],
   "source": [
    "'''Task 1: 2 Implement List comprehensions to produce the following lists.\n",
    "Write List comprehensions to produce the following Lists'''\n",
    "\n",
    "\n",
    "lst1 = [i for i in  ['A','C','A','D','G','I','L','D'] ]\n",
    "\n",
    "lst2 = [i*j for i in ['x','y','z'] for j in range(1,4)]\n",
    "\n",
    "lst3 = [i*j for i in range(1,4)   for j in ['x','y','z']]\n",
    "\n",
    "lst4 = [[j] for i in range(2,5) for j in range(i,i+3)]\n",
    "\n",
    "lst5 = [[j,j+1,j+2,j+3]  for j in range(2,6)]\n",
    "\n",
    "lst6 = [(j,i) for i in range(1,4) for j in range(1,4) ]\n",
    "\n",
    "print(lst1)\n",
    "print(lst2)\n",
    "print(lst3)\n",
    "print(lst4)\n",
    "print(lst5)\n",
    "print(lst6)"
   ]
  },
  {
   "cell_type": "code",
   "execution_count": 55,
   "metadata": {},
   "outputs": [
    {
     "name": "stdout",
     "output_type": "stream",
     "text": [
      "aaaaaa\n"
     ]
    }
   ],
   "source": [
    "''' Task 1 3 Implement a function longestWord() that takes a list of words and returns the longest one.'''\n",
    "def longestword(lst):\n",
    "    max_len=-1\n",
    "    out=''\n",
    "    for i in lst:\n",
    "        if(len(i)>max_len):\n",
    "            max_len=len(i)\n",
    "            out=i\n",
    "            \n",
    "    return out\n",
    "\n",
    "lst = ['a','aaa','aa','aaaaaa','aaa']\n",
    "print(longestword(lst))"
   ]
  },
  {
   "cell_type": "code",
   "execution_count": 69,
   "metadata": {},
   "outputs": [
    {
     "name": "stdout",
     "output_type": "stream",
     "text": [
      "10.825317547305483\n"
     ]
    }
   ],
   "source": [
    "'''TASK 2 1.1\n",
    "Write a Python Program(with class concepts) to find the area of the triangle using the below\n",
    "formula.'''\n",
    "\n",
    "class Parent:\n",
    "    def __init__(self,a,b,c):\n",
    "        self.a=a\n",
    "        self.b=b\n",
    "        self.c=c\n",
    "        \n",
    "        \n",
    "class Child(Parent):\n",
    "    def __init__(self,*args):\n",
    "         super(Child,self).__init__(*args)\n",
    "    def calculate_area(self):\n",
    "        s = (self.a+self.b+self.c)/2\n",
    "        self.area= (s*(s-self.a)*(s-self.b)*(s-self.c))**0.5\n",
    "\n",
    "ar = Child(5,5,5)\n",
    "ar.calculate_area()\n",
    "print(ar.area)\n",
    "        \n",
    "        "
   ]
  },
  {
   "cell_type": "code",
   "execution_count": 73,
   "metadata": {},
   "outputs": [
    {
     "name": "stdout",
     "output_type": "stream",
     "text": [
      "['aaaa', 'aaaaa', 'aaaaaa']\n"
     ]
    }
   ],
   "source": [
    "'''Task 1 1.2  Write a function filter_long_words() that takes a list of words and an integer n and returns the list\n",
    "of words that are longer than n.'''\n",
    "\n",
    "def filter_long_words(lst,n):\n",
    "    out=[]\n",
    "    for i in lst:\n",
    "        if len(i)>n:\n",
    "            out.append(i)\n",
    "            \n",
    "    return out        \n",
    "lst = ['a','aa','aaa','aaaa','aaaaa','aaaaaa','aa']\n",
    "print(filter_long_words(lst,3))\n",
    "            "
   ]
  },
  {
   "cell_type": "code",
   "execution_count": null,
   "metadata": {},
   "outputs": [],
   "source": [
    "'''Task 2 2.1 Write a Python program using function concept that maps list of words into a list of integers\n",
    "representing the lengths of the corresponding words .'''"
   ]
  },
  {
   "cell_type": "code",
   "execution_count": 74,
   "metadata": {},
   "outputs": [
    {
     "data": {
      "text/plain": [
       "[2, 1, 3, 6]"
      ]
     },
     "execution_count": 74,
     "metadata": {},
     "output_type": "execute_result"
    }
   ],
   "source": [
    "def len_str(st):\n",
    "    return len(st)\n",
    "\n",
    "lst = ['aa','a','aaa','aaaaaa']\n",
    "len_lst=list(map(len_str,lst))\n",
    "len_lst"
   ]
  },
  {
   "cell_type": "code",
   "execution_count": 79,
   "metadata": {},
   "outputs": [
    {
     "data": {
      "text/plain": [
       "False"
      ]
     },
     "execution_count": 79,
     "metadata": {},
     "output_type": "execute_result"
    }
   ],
   "source": [
    "''' Task 2 2.2 Write a Python function which takes a character (i.e. a string of length 1) and returns True if it is\n",
    "a vowel, False otherwise.'''\n",
    "\n",
    "def vowel(ch):\n",
    "    vowel = 'AEIOU'\n",
    "    if ch.upper() in vowel:\n",
    "        return True\n",
    "    return False\n",
    "\n",
    "vowel('b')\n",
    "    "
   ]
  },
  {
   "cell_type": "code",
   "execution_count": null,
   "metadata": {},
   "outputs": [],
   "source": []
  }
 ],
 "metadata": {
  "kernelspec": {
   "display_name": "Python 3",
   "language": "python",
   "name": "python3"
  },
  "language_info": {
   "codemirror_mode": {
    "name": "ipython",
    "version": 3
   },
   "file_extension": ".py",
   "mimetype": "text/x-python",
   "name": "python",
   "nbconvert_exporter": "python",
   "pygments_lexer": "ipython3",
   "version": "3.7.0"
  }
 },
 "nbformat": 4,
 "nbformat_minor": 2
}
