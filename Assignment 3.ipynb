{
 "cells": [
  {
   "cell_type": "markdown",
   "metadata": {},
   "source": [
    "#Task 1 1) Write a function to compute 5/0 and use try/except to catch the exceptions.\n"
   ]
  },
  {
   "cell_type": "code",
   "execution_count": 1,
   "metadata": {},
   "outputs": [
    {
     "name": "stdout",
     "output_type": "stream",
     "text": [
      "division by zero\n",
      "Finally Executed!\n"
     ]
    }
   ],
   "source": [
    "def compute_num():\n",
    "    try:\n",
    "        a = 5/0\n",
    "    except Exception as e:\n",
    "        print(e)\n",
    "    finally:\n",
    "        print(\"Finally Executed!\")\n",
    "        \n",
    "compute_num()        \n",
    "        "
   ]
  },
  {
   "cell_type": "markdown",
   "metadata": {},
   "source": [
    "Task 1,. Q2) Implement a Python program to generate all sentences where subject is in [\"Americans\",\n",
    "\"Indians\"] and verb is in [\"Play\", \"watch\"] and the object is in [\"Baseball\",\"cricket\"].\n",
    "Hint: Subject,Verb and Object should be declared in the program as shown below.\n",
    "subjects=[\"Americans \",\"Indians\"]\n",
    "verbs=[\"play\",\"watch\"]\n",
    "objects=[\"Baseball\",\"Cricket\"]"
   ]
  },
  {
   "cell_type": "code",
   "execution_count": 2,
   "metadata": {},
   "outputs": [
    {
     "name": "stdout",
     "output_type": "stream",
     "text": [
      "Americans  play Baseball\n",
      "Americans  play Cricket\n",
      "Americans  watch Baseball\n",
      "Americans  watch Cricket\n",
      "Indians play Baseball\n",
      "Indians play Cricket\n",
      "Indians watch Baseball\n",
      "Indians watch Cricket\n"
     ]
    }
   ],
   "source": [
    "def sentences():\n",
    "    subjects=[\"Americans \",\"Indians\"]\n",
    "    verbs=[\"play\",\"watch\"]\n",
    "    objects=[\"Baseball\",\"Cricket\"]\n",
    "    \n",
    "    for i in subjects:\n",
    "        for j in verbs:\n",
    "            for k in objects:\n",
    "                print(i+' '+j+' '+k)\n",
    "                \n",
    "sentences()                "
   ]
  },
  {
   "cell_type": "markdown",
   "metadata": {},
   "source": [
    "Task 2 Q1) Write a function so that the columns of the output matrix are powers of the input vector.\n",
    "The order of the powers is determined by the increasing boolean argument. Specifically, when\n",
    "increasing is False, the i-th output column is the input vector raised element-wise to the power\n",
    "of N - i - 1."
   ]
  },
  {
   "cell_type": "code",
   "execution_count": 18,
   "metadata": {},
   "outputs": [
    {
     "name": "stdout",
     "output_type": "stream",
     "text": [
      "Increasing - False :\n",
      "[1, 1, 1, 1]\n",
      "[8, 4, 2, 1]\n",
      "[27, 9, 3, 1]\n",
      "[125, 25, 5, 1]\n",
      "\n",
      "Increasing - True :\n",
      "[1, 1, 1, 1]\n",
      "[1, 2, 4, 8]\n",
      "[1, 3, 9, 27]\n",
      "[1, 5, 25, 125]\n"
     ]
    }
   ],
   "source": [
    "def Vandermonde(a,increasing=False):\n",
    "    out =[]\n",
    "    if increasing==False:\n",
    "        for i in a:\n",
    "            lst = []\n",
    "            for j in range(3,-1,-1):\n",
    "                lst.append(pow(i,j))\n",
    "            out.append(lst) \n",
    "            \n",
    "    else:\n",
    "        for i in a:\n",
    "            lst = []\n",
    "            for j in range(0,4):\n",
    "                lst.append(pow(i,j))\n",
    "            out.append(lst)\n",
    "    return out\n",
    "\n",
    "print(\"Increasing - False :\")\n",
    "out1 = Vandermonde([1, 2, 3, 5])\n",
    "for i in out1:\n",
    "    print(i)\n",
    "print()    \n",
    "print(\"Increasing - True :\")\n",
    "out2 = Vandermonde([1, 2, 3, 5],True)\n",
    "for i in out2:\n",
    "    print(i)\n"
   ]
  },
  {
   "cell_type": "code",
   "execution_count": null,
   "metadata": {},
   "outputs": [],
   "source": []
  }
 ],
 "metadata": {
  "kernelspec": {
   "display_name": "Python 3",
   "language": "python",
   "name": "python3"
  },
  "language_info": {
   "codemirror_mode": {
    "name": "ipython",
    "version": 3
   },
   "file_extension": ".py",
   "mimetype": "text/x-python",
   "name": "python",
   "nbconvert_exporter": "python",
   "pygments_lexer": "ipython3",
   "version": "3.7.0"
  }
 },
 "nbformat": 4,
 "nbformat_minor": 2
}
